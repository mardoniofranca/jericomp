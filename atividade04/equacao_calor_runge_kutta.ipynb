{
 "cells": [
  {
   "cell_type": "markdown",
   "id": "6dbd98ee",
   "metadata": {},
   "source": [
    "# Equação do Calor 1D — Solução Numérica com Runge-Kutta\n",
    "\n",
    "## 📘 Definição\n",
    "\n",
    "A **equação do calor unidimensional** descreve como a temperatura varia ao longo do tempo em uma barra:\n",
    "\n",
    "\n",
    "$\n",
    "\\frac{\\partial u}{\\partial t} = \\alpha \\frac{\\partial^2 u}{\\partial x^2}\n",
    "$\n",
    "\n",
    "\n",
    "onde:\n",
    "\n",
    "- \\( u(x, t) \\): temperatura na posição \\( x \\) e tempo \\( t \\),\n",
    "- \\( \\alpha > 0 \\): coeficiente de difusão térmica.\n",
    "\n",
    "---\n",
    "\n",
    "##  Condições do problema\n",
    "\n",
    "- **Domínio espacial:** \\( x \\in [0, L] \\)\n",
    "- **Tempo:** \\( t \\geq 0 \\)\n",
    "- **Condição inicial (CI):**\n",
    "\n",
    "\\[\n",
    "u(x, 0) = f(x)\n",
    "\\]\n",
    "\n",
    "- **Condições de contorno (CC):**\n",
    "\n",
    "\\[\n",
    "u(0, t) = u(L, t) = 0 \\quad \\text{(Dirichlet homogêneas)}\n",
    "\\]\n",
    "\n",
    "---\n",
    "\n",
    "## Discretização espacial\n",
    "\n",
    "Utilizando o método das diferenças finitas centradas:\n",
    "\n",
    "- Discretizamos o espaço com \\( N \\) pontos,\n",
    "- Espaçamento: \\( \\Delta x = \\frac{L}{N - 1} \\),\n",
    "- A segunda derivada é aproximada por:\n",
    "\n",
    "\\[\n",
    "\\frac{\\partial^2 u}{\\partial x^2} \\approx \\frac{u_{i+1} - 2u_i + u_{i-1}}{(\\Delta x)^2}\n",
    "\\]\n",
    "\n",
    "Assim, obtemos um **sistema de equações diferenciais ordinárias (EDOs)** para cada ponto interno \\( i \\):\n",
    "\n",
    "\\[\n",
    "\\frac{du_i}{dt} = \\alpha \\cdot \\frac{u_{i+1} - 2u_i + u_{i-1}}{(\\Delta x)^2}\n",
    "\\]\n",
    "\n",
    "---\n",
    "\n",
    "##  Integração no tempo: Runge-Kutta de 4ª ordem (RK4)\n",
    "\n",
    "Para resolver o sistema de EDOs em \\( t \\), aplicamos o método RK4:\n",
    "\n",
    "\\[\n",
    "\\begin{aligned}\n",
    "k_1 &= f(u^n) \\\\\n",
    "k_2 &= f\\left(u^n + \\frac{\\Delta t}{2} k_1\\right) \\\\\n",
    "k_3 &= f\\left(u^n + \\frac{\\Delta t}{2} k_2\\right) \\\\\n",
    "k_4 &= f\\left(u^n + \\Delta t \\cdot k_3\\right) \\\\\n",
    "u^{n+1} &= u^n + \\frac{\\Delta t}{6} \\left(k_1 + 2k_2 + 2k_3 + k_4\\right)\n",
    "\\end{aligned}\n",
    "\\]\n",
    "\n",
    "---\n",
    "\n",
    "## Visualização dos resultados\n",
    "\n",
    "A solução é representada como uma matriz \\( u(x, t) \\), e pode ser visualizada como:\n",
    "\n",
    "- Gráficos de temperatura ao longo do espaço para diferentes tempos,\n",
    "- Mapa de calor 2D com temperatura codificada por cores (eixo \\( x \\) vs. tempo \\( t \\)).\n",
    "\n",
    "---\n",
    "\n",
    "##  Observações\n",
    "\n",
    "- A escolha adequada de \\( \\Delta x \\) e \\( \\Delta t \\) é essencial para garantir **estabilidade e precisão**.\n",
    "- Para simulações mais extensas ou rígidas, métodos **implícitos** (ex: Crank-Nicolson) são mais indicados.\n",
    "- O método RK4 é preciso, mas **explícito** — ou seja, sujeito a restrições no passo de tempo.\n",
    "\n",
    "---\n",
    "\n",
    "## 🧪 Método \n",
    "\n",
    "\n",
    "- **Método numérico:** Runge-Kutta de 4ª ordem (RK4)\n"
   ]
  },
  {
   "cell_type": "code",
   "execution_count": 5,
   "id": "ab8d0317",
   "metadata": {},
   "outputs": [],
   "source": [
    "# ====================================================\n",
    "# Simulação da Equação do Calor 1D usando Runge-Kutta (RK4)\n",
    "# ====================================================\n",
    "\n",
    "import numpy as np\n",
    "import matplotlib.pyplot as plt"
   ]
  },
  {
   "cell_type": "code",
   "execution_count": 6,
   "id": "75f54563",
   "metadata": {},
   "outputs": [],
   "source": [
    "# --------------------------\n",
    "# Parâmetros físicos e numéricos\n",
    "# --------------------------\n",
    "alpha = 1.0     # coeficiente de difusão térmica\n",
    "L = 1.0         # comprimento da barra\n",
    "Nx = 20         # número de pontos no espaço\n",
    "dx = L / (Nx - 1)  # passo espacial\n",
    "x = np.linspace(0, L, Nx)  # vetor de posições\n",
    "\n",
    "T = 0.1         # tempo total da simulação\n",
    "dt = 0.001      # passo de tempo\n",
    "Nt = int(T / dt)  # número de passos no tempo"
   ]
  },
  {
   "cell_type": "code",
   "execution_count": 7,
   "id": "90992a2d",
   "metadata": {},
   "outputs": [],
   "source": [
    "# --------------------------\n",
    "# Condição inicial: pulso de calor no centro da barra\n",
    "# --------------------------\n",
    "u0 = np.exp(-100 * (x - 0.5)**2)"
   ]
  },
  {
   "cell_type": "code",
   "execution_count": 8,
   "id": "597fba6b",
   "metadata": {},
   "outputs": [],
   "source": [
    "# --------------------------\n",
    "# Função para aplicar condições de contorno de Dirichlet (u = 0 nas extremidades)\n",
    "# --------------------------\n",
    "def apply_boundary(u):\n",
    "    u[0] = 0\n",
    "    u[-1] = 0\n",
    "    return u"
   ]
  },
  {
   "cell_type": "code",
   "execution_count": 9,
   "id": "f91fb3b1",
   "metadata": {},
   "outputs": [],
   "source": [
    "# --------------------------\n",
    "# Discretização da equação do calor (sistema de EDOs)\n",
    "# --------------------------\n",
    "def dudt(u):\n",
    "    du = np.zeros_like(u)\n",
    "    for i in range(1, Nx - 1):\n",
    "        du[i] = alpha * (u[i+1] - 2*u[i] + u[i-1]) / dx**2\n",
    "    return du\n",
    "\n",
    "\n",
    "\n"
   ]
  },
  {
   "cell_type": "code",
   "execution_count": 10,
   "id": "bba22d44",
   "metadata": {},
   "outputs": [],
   "source": [
    "# --------------------------\n",
    "# Passo do método de Runge-Kutta de 4ª ordem (RK4)\n",
    "# --------------------------\n",
    "def rk4_step(u, dt):\n",
    "    k1 = dudt(u)\n",
    "    k2 = dudt(u + 0.5 * dt * k1)\n",
    "    k3 = dudt(u + 0.5 * dt * k2)\n",
    "    k4 = dudt(u + dt * k3)\n",
    "    return u + (dt / 6) * (k1 + 2*k2 + 2*k3 + k4)\n",
    "\n"
   ]
  },
  {
   "cell_type": "code",
   "execution_count": 11,
   "id": "081fcde2",
   "metadata": {},
   "outputs": [],
   "source": [
    "# --------------------------\n",
    "# Loop de simulação\n",
    "# --------------------------\n",
    "u = u0.copy()\n",
    "sol = [u0.copy()]  # armazena a solução para visualização\n",
    "\n",
    "for _ in range(Nt):\n",
    "    u = rk4_step(u, dt)     # aplica RK4\n",
    "    u = apply_boundary(u)   # aplica condição de contorno\n",
    "    sol.append(u.copy())    # salva estado atual"
   ]
  },
  {
   "cell_type": "code",
   "execution_count": 12,
   "id": "013d472a",
   "metadata": {},
   "outputs": [
    {
     "data": {
      "image/png": "[encoded data removed]",
      "text/plain": [
       "<Figure size 1000x600 with 2 Axes>"
      ]
     },
     "metadata": {},
     "output_type": "display_data"
    }
   ],
   "source": [
    "# --------------------------\n",
    "# Visualização: mapa de calor (temperatura vs espaço e tempo)\n",
    "# --------------------------\n",
    "sol = np.array(sol)\n",
    "\n",
    "plt.figure(figsize=(10, 6))\n",
    "plt.imshow(sol.T, extent=[0, T, 0, L], aspect='auto', origin='lower', cmap='hot')\n",
    "plt.colorbar(label=\"Temperatura\")\n",
    "plt.xlabel(\"Tempo\")\n",
    "plt.ylabel(\"Espaço\")\n",
    "plt.title(\"Equação do Calor 1D resolvida com Runge-Kutta 4ª ordem (RK4)\")\n",
    "plt.grid(False)\n",
    "plt.show()"
   ]
  }
 ],
 "metadata": {
  "kernelspec": {
   "display_name": "Python 3 (ipykernel)",
   "language": "python",
   "name": "python3"
  },
  "language_info": {
   "codemirror_mode": {
    "name": "ipython",
    "version": 3
   },
   "file_extension": ".py",
   "mimetype": "text/x-python",
   "name": "python",
   "nbconvert_exporter": "python",
   "pygments_lexer": "ipython3",
   "version": "3.10.12"
  }
 },
 "nbformat": 4,
 "nbformat_minor": 5
}
